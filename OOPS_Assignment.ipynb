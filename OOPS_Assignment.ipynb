{
  "nbformat": 4,
  "nbformat_minor": 0,
  "metadata": {
    "colab": {
      "provenance": []
    },
    "kernelspec": {
      "name": "python3",
      "display_name": "Python 3"
    },
    "language_info": {
      "name": "python"
    }
  },
  "cells": [
    {
      "cell_type": "markdown",
      "source": [
        "# **THEORY QUESTIONS**"
      ],
      "metadata": {
        "id": "sp-5X73sGwRY"
      }
    },
    {
      "cell_type": "markdown",
      "source": [
        "Q1-What is Object-Oriented Programming (OOP)?\n",
        "\n",
        "  Ans-Object-Oriented Programming (OOP) is a programming paradigm that uses \"objects\" to design applications and computer programs. These objects are instances of \"classes\" and can contain both data (attributes) and code (methods) that operates on that data. The main principles of OOP are encapsulation, inheritance, and polymorphism.\n",
        "\n"
      ],
      "metadata": {
        "id": "-Y5ZPc53DCsx"
      }
    },
    {
      "cell_type": "markdown",
      "source": [
        "Q2-What is a class in OOP?\n",
        "\n",
        "  Ans-In Object-Oriented Programming (OOP), a class is a blueprint or a template for creating objects. It defines the properties (attributes) and behaviors (methods) that objects of that class will have. Think of it like a blueprint for a house – it describes what the house will look like and what features it will have, but it's not the actual house itself. You can create multiple houses (objects) from the same blueprint (class)."
      ],
      "metadata": {
        "id": "rPCMy5GHDFAp"
      }
    },
    {
      "cell_type": "markdown",
      "source": [
        "Q3-What is an object in OOP?\n",
        "\n",
        "  Ans-In Object-Oriented Programming (OOP), an object is an instance of a class. It's a concrete entity created from the blueprint defined by the class. Objects have the attributes (data) and behaviors (methods) defined by their class. For example, if you have a Car class, an object of that class would be a specific car, like a \"red Toyota Camry\" with a certain speed and fuel level."
      ],
      "metadata": {
        "id": "w9qK6yB3DODP"
      }
    },
    {
      "cell_type": "markdown",
      "source": [
        "Q4-What is the difference between abstraction and encapsulation?\n",
        "\n",
        "  Ans-Abstraction focuses on hiding complex implementation details and showing only the essential features of an object. It's about simplifying the view of something. Think of driving a car – you interact with the steering wheel, pedals, and gear shift without needing to know the intricate details of how the engine works.\n",
        "\n",
        "Encapsulation is the bundling of data (attributes) and the methods (code) that operate on that data within a single unit, which is a class. It also involves controlling access to the data, often by making attributes private and providing public methods to interact with them. This protects the data from being directly modified in unintended ways. Think of a capsule containing medicine – the medicine (data) is enclosed within the capsule (class), and you take the capsule (use methods) to get the effect.\n",
        "\n",
        "In essence, abstraction is about what an object does (its interface), while encapsulation is about how the object's data and methods are organized and protected. Encapsulation is often a mechanism to achieve abstraction."
      ],
      "metadata": {
        "id": "AukAlTrWDVOX"
      }
    },
    {
      "cell_type": "markdown",
      "source": [
        "Q5-What are dunder methods in Python?\n",
        "\n",
        "  Ans-Dunder methods in Python are special methods that have double underscores at the beginning and end of their names, like __init__ or __str__. \"Dunder\" is short for \"double underscore\". They are also known as magic methods or special methods.\n",
        "\n",
        "These methods are not typically called directly by the programmer. Instead, they are invoked automatically by Python in response to certain operations or events. Dunder methods allow you to define how objects of your class behave when used with built-in functions or operators.\n",
        "\n",
        "Here are a few examples of common dunder methods and their purposes:\n",
        "\n",
        "__init__(self, ...): The constructor, called when an object is created. It's used to initialize the object's attributes.\n",
        "__str__(self): Defines the informal string representation of an object, used by functions like str() and print().\n",
        "__repr__(self): Defines the official string representation of an object, used by functions like repr().\n",
        "__len__(self): Defines the behavior for the len() function.\n",
        "__add__(self, other): Defines the behavior for the + operator.\n",
        "Using dunder methods allows you to make your custom objects integrate seamlessly with Python's built-in features and syntax."
      ],
      "metadata": {
        "id": "TI5wLMlVDaLw"
      }
    },
    {
      "cell_type": "markdown",
      "source": [
        "Q6-Explain the concept of inheritance in OOP?\n",
        "\n",
        "  Ans-Inheritance is a fundamental concept in Object-Oriented Programming (OOP) that allows a new class (called a subclass or derived class) to inherit properties (attributes) and behaviors (methods) from an existing class (called a superclass or base class).\n",
        "\n",
        "Think of it like real-world inheritance. A child inherits characteristics from their parents. In OOP, a subclass can reuse the code and structure defined in its superclass, promoting code reusability and creating a hierarchical relationship between classes.\n",
        "\n",
        "Here's a breakdown of key aspects:\n",
        "\n",
        "Parent Class (Superclass/Base Class): The class being inherited from. It defines common attributes and methods.\n",
        "Child Class (Subclass/Derived Class): The class that inherits from the parent class. It can access and use the members (attributes and methods) of the parent class.\n",
        "\"Is-a\" Relationship: Inheritance represents an \"is-a\" relationship. For example, a \"Dog is an Animal,\" or a \"Car is a Vehicle.\"\n",
        "Inheritance allows you to create specialized classes based on more general classes, avoiding redundant code and making your programs more organized and maintainable. Subclasses can also add their own unique attributes and methods or override methods from the superclass to provide specific implementations."
      ],
      "metadata": {
        "id": "y3lud7L8De4L"
      }
    },
    {
      "cell_type": "markdown",
      "source": [
        "Q7-What is polymorphism in OOP?\n",
        "\n",
        "  Ans-Polymorphism in Object-Oriented Programming means \"many forms.\" It refers to the ability of different objects to respond to the same method call in their own unique ways. This allows you to treat objects of different classes in a uniform manner, even though they might have different underlying implementations.\n",
        "\n",
        "There are two main types of polymorphism:\n",
        "\n",
        "Compile-time polymorphism (Method Overloading): This is when multiple methods in the same class have the same name but different parameters (number, type, or order of arguments). The correct method to call is determined at compile time based on the arguments provided. Python does not directly support traditional method overloading like some other languages, but you can achieve similar results using default arguments, variable-length arguments, or type checking within a single method.\n",
        "Runtime polymorphism (Method Overriding): This occurs when a subclass provides a specific implementation for a method that is already defined in its superclass. The method to be executed is determined at runtime based on the actual type of the object. This is a very common form of polymorphism in Python and is achieved through inheritance.\n",
        "Polymorphism is important because it promotes code flexibility, reusability, and maintainability. It allows you to write more generic code that can work with objects of different types, making your programs easier to extend and modify."
      ],
      "metadata": {
        "id": "1NLsCfBDDkHn"
      }
    },
    {
      "cell_type": "markdown",
      "source": [
        "Q8-How is encapsulation achieved in Python?\n",
        "\n",
        "  Ans-In Python, encapsulation is achieved through a combination of conventions and name mangling:\n",
        "\n",
        "Bundling Data and Methods: This is the primary way encapsulation is achieved in Python. You define a class and place both the data (attributes) and the methods that operate on that data within that class.\n",
        "Using Conventions (Single Underscore _): Python doesn't have strict access modifiers like public, private, or protected as in some other languages. Instead, a convention is used: prefixing an attribute or method name with a single underscore (_) indicates that it is intended for internal use within the class or module. While you can still access these members from outside the class, the single underscore signals to other developers that they should treat it as a private member and avoid direct access.\n",
        "Name Mangling (Double Underscore __): Prefixing an attribute or method name with a double underscore (__) triggers a mechanism called \"name mangling.\" Python internally changes the name of the attribute or method to include the class name (e.g., __my_attribute becomes _ClassName__my_attribute). This makes it harder (though not impossible) to access the attribute or method directly from outside the class, providing a stronger form of encapsulation.\n",
        "Property Decorators (@property): Property decorators are a more Pythonic way to control access to attributes. They allow you to define getter, setter, and deleter methods for an attribute, giving you fine-grained control over how the attribute is accessed and modified. This is often used to provide controlled access to attributes that are intended to be private."
      ],
      "metadata": {
        "id": "yABFntKMDpAX"
      }
    },
    {
      "cell_type": "markdown",
      "source": [
        "Q9-What is a constructor in Python?\n",
        "\n",
        "  Ans-In Python, a constructor is a special method within a class that is automatically called when you create a new object (an instance) of that class. Its primary purpose is to initialize the object's attributes (data members).\n",
        "\n",
        "The constructor method in Python is always named __init__. The name __init__ stands for \"initialize.\"\n",
        "\n",
        "Here's how it works:\n",
        "\n",
        "When you create an object like my_object = MyClass(arguments), Python automatically calls the __init__ method of the MyClass with the object itself (self) and any additional arguments you provided.\n",
        "Inside the __init__ method, you typically assign the provided arguments to the object's attributes using self.attribute_name = argument_value.\n",
        "The __init__ method is essential for setting up the initial state of an object when it's created, ensuring that the object has the necessary data to function correctly."
      ],
      "metadata": {
        "id": "wC_o_nxDDwa0"
      }
    },
    {
      "cell_type": "markdown",
      "source": [
        "Q10-What are class and static methods in Python?\n",
        "\n",
        "  Ans-In Python, class methods and static methods are two types of methods that differ in how they are bound to the class and how they receive arguments.\n",
        "\n",
        "Class Methods:\n",
        "\n",
        "Defined using the @classmethod decorator.\n",
        "The first argument to a class method is conventionally named cls, which refers to the class itself (not an instance of the class).\n",
        "Class methods are often used as alternative constructors or to access and modify class variables.\n",
        "Static Methods:\n",
        "\n",
        "Defined using the @staticmethod decorator.\n",
        "Static methods do not receive an implicit first argument (neither self for the instance nor cls for the class).\n",
        "They are essentially functions defined within a class that don't need access to either the instance or the class itself. They are often used for utility functions that are logically related to the class but don't operate on specific instance or class data.\n",
        "Here's a simple way to think about the difference:\n",
        "\n",
        "Instance methods (the default) operate on the instance of the class (self).\n",
        "Class methods operate on the class itself (cls).\n",
        "Static methods operate independently of both the instance and the class."
      ],
      "metadata": {
        "id": "hgpi7-2KD0tV"
      }
    },
    {
      "cell_type": "markdown",
      "source": [
        "Q11-What is method overloading in Python?\n",
        "\n",
        "  Ans-Method overloading is a concept where a class can have multiple methods with the same name but different parameters. The correct method to be executed is determined by the number or type of arguments passed to the method.\n",
        "\n",
        "However, it's important to note that Python does not support method overloading in the traditional sense like some other programming languages (like Java or C++). If you define multiple methods with the same name in a Python class, the last one defined will overwrite the previous ones.\n",
        "\n",
        "While Python doesn't have built-in method overloading, you can achieve similar functionality using:\n",
        "\n",
        "Default arguments: Provide default values for parameters, allowing the method to be called with fewer arguments.\n",
        "Variable-length arguments (*args and **kwargs): Accept an arbitrary number of positional or keyword arguments and handle them within the method.\n",
        "Type checking within the method: Check the type of the arguments passed and perform different actions based on the type."
      ],
      "metadata": {
        "id": "BBmgk_RID7kC"
      }
    },
    {
      "cell_type": "markdown",
      "source": [
        "Q12-What is method overriding in OOP?\n",
        "\n",
        "  Ans-Method overriding in Object-Oriented Programming occurs when a subclass provides a specific implementation for a method that is already defined in its superclass. This allows a subclass to have its own unique behavior for a method that it inherits from a parent class. When the method is called on an object of the subclass, the overridden version in the subclass is executed instead of the superclass's version. This is a key aspect of polymorphism, allowing objects of different classes to respond to the same method call in different ways."
      ],
      "metadata": {
        "id": "8e5aT1iZD9sY"
      }
    },
    {
      "cell_type": "markdown",
      "source": [
        "Q13-What is a property decorator in Python?\n",
        "\n",
        "  Ans-A property decorator (@property) in Python is a built-in decorator that provides a convenient way to access attributes like they are simple variables, while still allowing you to define custom getter, setter, and deleter methods behind the scenes.\n",
        "\n",
        "Essentially, it allows you to \"wrap\" a method so that accessing it looks like accessing an attribute. This is useful for several reasons:\n",
        "\n",
        "Encapsulation: It helps in achieving encapsulation by providing controlled access to an attribute. You can define logic in the getter and setter methods, such as validation or computation, before the attribute's value is accessed or modified.\n",
        "Backward Compatibility: If you initially implemented an attribute as a simple public variable and later need to add logic when it's accessed or modified, you can convert it to a property using @property without changing how other parts of your code interact with it.\n",
        "Read-only Attributes: You can create read-only attributes by only defining a getter method using @property.\n",
        "Computed Attributes: You can use @property to create attributes whose values are computed dynamically each time they are accessed, rather than being stored directly."
      ],
      "metadata": {
        "id": "IdBf-LTLEC0W"
      }
    },
    {
      "cell_type": "markdown",
      "source": [
        "Q14-Why is polymorphism important in OOP?\n",
        "\n",
        "  Ans-Polymorphism is important in OOP for several key reasons:\n",
        "\n",
        "Code Flexibility and Reusability: Polymorphism allows you to write more generic code that can work with objects of different types. Instead of writing specific code for each type, you can write code that interacts with a base class or interface, and the appropriate method implementation for the specific object type will be called at runtime. This makes your code more flexible and reusable.\n",
        "Simplified Code: By allowing objects of different classes to respond to the same method call, polymorphism simplifies your code. You don't need to use conditional statements (like if-elif-else) to check the type of an object before calling a method. You can just call the method, and polymorphism takes care of executing the correct version.\n",
        "Improved Maintainability: Polymorphic code is generally easier to maintain. If you need to add a new class that has a similar behavior to existing classes, you can simply create a new class that inherits from the base class and overrides the necessary methods. The existing code that uses the base class will automatically work with the new class without needing any modifications.\n",
        "Abstraction: Polymorphism supports abstraction by allowing you to focus on the common interface of objects rather than their specific implementations. This helps in hiding the complexity of individual object types.\n",
        "Extensibility: Polymorphism makes your programs more extensible. You can easily add new classes with different implementations of polymorphic methods without affecting the existing code that uses the base class."
      ],
      "metadata": {
        "id": "iTvtFncVEQA8"
      }
    },
    {
      "cell_type": "markdown",
      "source": [
        "Q15-What is an abstract class in Python?\n",
        "\n",
        "  Ans-In Python, an abstract class is a class that cannot be instantiated directly. It serves as a blueprint for other classes, defining a common interface and potentially some common implementation. Abstract classes are used to enforce a certain structure or behavior on classes that inherit from them.\n",
        "\n",
        "Here are the key characteristics of abstract classes in Python:\n",
        "\n",
        "Cannot be Instantiated: You cannot create an object directly from an abstract class. Attempting to do so will typically raise a TypeError.\n",
        "Define Abstract Methods: Abstract classes can contain abstract methods. An abstract method is a method declared in the abstract class but without an implementation. Subclasses that inherit from the abstract class are required to provide an implementation for all abstract methods.\n",
        "Used as Blueprints: Abstract classes define a common interface that subclasses must follow. This ensures that all subclasses have certain methods with specific signatures, which is useful for achieving polymorphism and creating a consistent structure in your code.\n",
        "Require the abc Module: To create abstract classes in Python, you need to use the abc module (Abstract Base Classes). You typically inherit from ABC (Abstract Base Class) and use the @abstractmethod decorator to mark methods as abstract."
      ],
      "metadata": {
        "id": "dUSrGiJLER22"
      }
    },
    {
      "cell_type": "markdown",
      "source": [
        "Q16-What are the advantages of OOP?\n",
        "\n",
        "  Ans-Object-Oriented Programming (OOP) offers several significant advantages in software development:\n",
        "\n",
        "Modularity: OOP promotes breaking down complex systems into smaller, manageable objects. Each object encapsulates its own data and behavior, making the code easier to understand, develop, and maintain.\n",
        "Reusability: Through inheritance, OOP allows you to create new classes that reuse properties and behaviors of existing classes. This reduces redundant code and accelerates development.\n",
        "Flexibility and Extensibility: Polymorphism allows you to write more generic code that can work with objects of different types. This makes your code more flexible and easier to extend with new classes and functionalities without modifying existing code.\n",
        "Maintainability: The modular nature of OOP makes code easier to maintain. Changes in one object's implementation are less likely to affect other parts of the system, provided the interface remains consistent.\n",
        "Improved Code Organization: OOP provides a clear structure for organizing code into classes and objects, reflecting real-world entities and their relationships. This makes the codebase more organized and easier to navigate.\n",
        "Abstraction: OOP helps in managing complexity by allowing you to focus on the essential features of an object while hiding the underlying implementation details. This simplifies the view of the system.\n",
        "Easier Troubleshooting: Due to modularity and encapsulation, it's often easier to isolate and fix bugs in an OOP system. Errors are more likely to be confined to specific objects.\n",
        "Better Collaboration: The clear structure and modularity of OOP make it easier for multiple developers to work on the same project simultaneously without interfering with each other's code."
      ],
      "metadata": {
        "id": "9VzVe0U0EYhs"
      }
    },
    {
      "cell_type": "markdown",
      "source": [
        "Q17-What is the difference between a class variable and an instance variable?\n",
        "\n",
        "  Ans-The difference between a class variable and an instance variable in Python lies in how they are defined and accessed, and their scope:\n",
        "\n",
        "Class Variables:\n",
        "\n",
        "Definition: Defined directly within the class but outside of any method.\n",
        "Scope: They are shared among all instances (objects) of the class. There is only one copy of a class variable for the entire class.\n",
        "Access: Accessed using the class name (e.g., ClassName.class_variable) or through an instance (instance.class_variable), though accessing via the class name is generally preferred to make it clear you're dealing with a class variable.\n",
        "Use Cases: Useful for storing data that is common to all instances, such as constants, counters, or default values.\n",
        "Instance Variables:\n",
        "\n",
        "Definition: Defined within the methods of a class, typically within the __init__ constructor, using the self keyword (e.g., self.instance_variable).\n",
        "Scope: They are unique to each instance (object) of the class. Each object has its own copy of the instance variables.\n",
        "Access: Accessed using the instance name (e.g., instance.instance_variable).\n",
        "Use Cases: Used to store data that is specific to each individual object, representing the state or attributes of that particular instance."
      ],
      "metadata": {
        "id": "Xu57G_EMEfDE"
      }
    },
    {
      "cell_type": "markdown",
      "source": [
        "Q18-What is multiple inheritance in Python?\n",
        "\n",
        "  Ans-Multiple inheritance in Python is a feature that allows a class to inherit attributes and methods from more than one parent class. This means a child class can combine the characteristics of multiple base classes.\n",
        "\n",
        "Here's how it works:\n",
        "\n",
        "When we define a class, we can list multiple parent classes in the parentheses after the class name, separated by commas."
      ],
      "metadata": {
        "id": "Ot8M7mSsEktK"
      }
    },
    {
      "source": [
        "class Parent1:\n",
        "    def method1(self):\n",
        "        print(\"Method from Parent1\")\n",
        "\n",
        "class Parent2:\n",
        "    def method2(self):\n",
        "        print(\"Method from Parent2\")\n",
        "\n",
        "class Child(Parent1, Parent2):\n",
        "    def method3(self):\n",
        "        print(\"Method from Child\")\n",
        "\n",
        "# Create an object of the Child class\n",
        "child_obj = Child()\n",
        "\n",
        "# The child object can access methods from both parent classes\n",
        "child_obj.method1()\n",
        "child_obj.method2()\n",
        "child_obj.method3()"
      ],
      "cell_type": "code",
      "metadata": {
        "id": "pzyxgizAM9P5"
      },
      "execution_count": null,
      "outputs": []
    },
    {
      "cell_type": "markdown",
      "source": [
        "Q19-Explain the purpose of ‘’__str__’ and ‘__repr__’ ‘ methods in Python?\n",
        "\n",
        "  Ans-In Python, __str__ and __repr__ are special dunder methods that are used to define the string representation of an object. While they both provide a string representation, they serve slightly different purposes and are used in different contexts:\n",
        "\n",
        "__str__(self):\n",
        "Purpose: Defines the \"informal\" or \"user-friendly\" string representation of an object.\n",
        "Goal: To be readable and understandable to a human user. It should aim to provide a concise and informative description of the object's state.\n",
        "Used by: The built-in str() function and the print() function.\n",
        "Fallback: If a class does not define __str__, Python will fall back to using __repr__.\n",
        "__repr__(self):\n",
        "Purpose: Defines the \"official\" or \"developer-friendly\" string representation of an object.\n",
        "Goal: To be unambiguous and ideally, the string returned by __repr__ should be a valid Python expression that could be used to recreate the object. It should provide enough information to precisely identify the object.\n",
        "Used by: The built-in repr() function, interactive Python sessions (when you simply type the object's name and press Enter), and debuggers.\n",
        "Fallback: If a class does not define __repr__, the default representation is used (which is usually not very informative).\n",
        "Key Differences Summarized:\n",
        "\n",
        "Audience: __str__ is for end-users, __repr__ is for developers.\n",
        "Goal: __str__ is for readability, __repr__ is for unambiguous representation.\n",
        "Output: __str__ can return any string, __repr__ should ideally return a string that could recreate the object.\n",
        "Fallback: str() falls back to __repr__ if __str__ is not defined; repr() does not fall back.\n",
        "When to use which:\n",
        "\n",
        "Always define __repr__ for your custom objects. This is crucial for debugging and introspection.\n",
        "Define __str__ if you want a more user-friendly output when the object is printed or converted to a string using str(). If you don't define __str__, the print() function will use the output of __repr__ by default."
      ],
      "metadata": {
        "id": "w86bEclmEovO"
      }
    },
    {
      "cell_type": "markdown",
      "source": [
        "Q20-What is the significance of the ‘super()’ function in Python?\n",
        "\n",
        "  Ans-he super() function in Python has significant importance, particularly in the context of inheritance. Its primary purpose is to call a method from the parent class in a way that handles single and multiple inheritance correctly.\n",
        "\n",
        "Calling Parent Class Methods: The most common use of super() is to call methods that are defined in the parent class from within the child class. This is essential when you want to extend or modify the behavior of a parent method rather than completely replacing it (method overriding).\n",
        "\n",
        "  "
      ],
      "metadata": {
        "id": "wnaZX0LnEsNm"
      }
    },
    {
      "source": [
        "class Parent:\n",
        "    def my_method(self):\n",
        "        print(\"Method from Parent\")\n",
        "\n",
        "class Child(Parent):\n",
        "    def my_method(self):\n",
        "        print(\"Method from Child\")\n",
        "        super().my_method()  # Call the parent's my_method()\n",
        "\n",
        "child = Child()\n",
        "child.my_method()"
      ],
      "cell_type": "code",
      "metadata": {
        "id": "FCVYp6Z1N5Ia"
      },
      "execution_count": null,
      "outputs": []
    },
    {
      "source": [
        "class Parent:\n",
        "    def __init__(self, name):\n",
        "        self.name = name\n",
        "        print(f\"Parent initialized with name: {self.name}\")\n",
        "\n",
        "class Child(Parent):\n",
        "    def __init__(self, name, age):\n",
        "        super().__init__(name)  # Call the parent's __init__()\n",
        "        self.age = age\n",
        "        print(f\"Child initialized with age: {self.age}\")\n",
        "\n",
        "child = Child(\"Alice\", 30)"
      ],
      "cell_type": "code",
      "metadata": {
        "id": "Qo4ciTpKN6Yt"
      },
      "execution_count": null,
      "outputs": []
    },
    {
      "source": [
        "class Parent1:\n",
        "    def greet(self):\n",
        "        print(\"Hello from Parent1\")\n",
        "\n",
        "class Parent2:\n",
        "    def greet(self):\n",
        "        print(\"Hello from Parent2\")\n",
        "\n",
        "class Child(Parent1, Parent2):\n",
        "    def greet(self):\n",
        "        super().greet()  # Calls Parent1's greet first according to MRO\n",
        "        print(\"Hello from Child\")\n",
        "\n",
        "child = Child()\n",
        "child.greet()\n",
        "\n",
        "print(Child.__mro__) # Check the MRO"
      ],
      "cell_type": "code",
      "metadata": {
        "id": "janNGkVoN7Tl"
      },
      "execution_count": null,
      "outputs": []
    },
    {
      "cell_type": "markdown",
      "source": [
        "Q21-What is the significance of the __del__ method in Python?\n",
        "\n",
        "  Ans-The __del__ method, also known as the destructor, in Python is a special method that is called when an object is about to be garbage collected. Garbage collection is the process by which Python automatically reclaims memory that is no longer being used by objects.\n",
        "\n",
        "Here's the significance of the __del__ method:\n",
        "\n",
        "Cleanup Operations: The primary purpose of __del__ is to perform cleanup operations before an object is destroyed and its memory is reclaimed. This can include tasks like:\n",
        "Closing file handles or network connections.\n",
        "Releasing system resources (e.g., locks, memory allocated outside of Python).\n",
        "Saving the object's state to a file or database.\n",
        "Resource Management: While Python's automatic garbage collection handles memory management, __del__ allows you to explicitly manage other resources that your object might be holding.\n",
        "Important Considerations and Caveats:\n",
        "\n",
        "Unpredictable Timing: The exact timing of when __del__ is called is not guaranteed. Python's garbage collector runs when it determines that an object is no longer reachable. This can happen at various points during program execution, or even not at all if the program exits before garbage collection occurs for a particular object.\n",
        "Circular References: Circular references between objects can prevent the garbage collector from detecting that objects are no longer needed, and thus __del__ might not be called.\n",
        "Exceptions in __del__: Raising exceptions within __del__ can lead to unexpected behavior and potentially crash your program. It's generally best to avoid complex logic or operations that could fail within a destructor.\n",
        "Alternatives: In many cases, it's better to use context managers (with statement) or explicit cleanup methods for resource management, as they provide more predictable and reliable ways to ensure resources are released when they are no longer needed. Context managers are particularly useful for resources that need to be acquired and released in a specific order."
      ],
      "metadata": {
        "id": "iuJ9N8hyEv0N"
      }
    },
    {
      "cell_type": "markdown",
      "source": [
        "Q22-What is the difference between @staticmethod and @classmethod in Python?\n",
        "\n",
        "  Ans-The key difference between @staticmethod and @classmethod in Python lies in the implicit first argument they receive and their typical use cases:\n",
        "\n",
        "@staticmethod:\n",
        "\n",
        "Implicit First Argument: Does not receive an implicit first argument (neither self for the instance nor cls for the class).\n",
        "Binding: Not bound to the instance or the class. It's essentially a regular function defined within the class namespace.\n",
        "Access: Cannot access or modify instance state (self) or class state (cls).\n",
        "Use Cases: Often used for utility functions that are logically related to the class but don't need to interact with the class's data or instance's data. They are like standalone functions but grouped within a class for organizational purposes.\n",
        "@classmethod:\n",
        "\n",
        "Implicit First Argument: Receives the class itself as the implicit first argument, conventionally named cls.\n",
        "Binding: Bound to the class.\n",
        "Access: Can access and modify class state (cls) but not instance state (self) unless an instance is explicitly created within the method.\n",
        "Use Cases:\n",
        "Alternative Constructors: A common use case is to provide alternative ways to create instances of the class.\n",
        "Accessing/Modifying Class Variables: Can be used to access or modify class variables.\n",
        "Operating on the Class Type: Useful when the method needs to know or work with the specific class type it's called on, especially in inheritance hierarchies."
      ],
      "metadata": {
        "id": "T8_O-YdWEzPk"
      }
    },
    {
      "source": [
        "class MyClass:\n",
        "    class_variable = \"I am a class variable\"\n",
        "\n",
        "    def __init__(self, instance_variable):\n",
        "        self.instance_variable = instance_variable\n",
        "\n",
        "    def instance_method(self):\n",
        "        \"\"\"An instance method: receives self.\"\"\"\n",
        "        print(f\"Instance variable: {self.instance_variable}\")\n",
        "        print(f\"Class variable (via self): {self.class_variable}\")\n",
        "\n",
        "    @classmethod\n",
        "    def class_method(cls, arg):\n",
        "        \"\"\"A class method: receives cls.\"\"\"\n",
        "        print(f\"Class variable (via cls): {cls.class_variable}\")\n",
        "        print(f\"Received argument: {arg}\")\n",
        "        # Can create instances using cls\n",
        "        return cls(f\"Instance created by class method with {arg}\")\n",
        "\n",
        "    @staticmethod\n",
        "    def static_method(x, y):\n",
        "        \"\"\"A static method: no implicit first argument.\"\"\"\n",
        "        print(f\"Adding {x} and {y}: {x + y}\")\n",
        "        # Cannot access instance or class variables directly\n",
        "\n",
        "# Using the methods\n",
        "obj = MyClass(\"Hello instance\")\n",
        "obj.instance_method()\n",
        "\n",
        "print(\"-\" * 20)\n",
        "\n",
        "# Calling class method using the class\n",
        "new_obj = MyClass.class_method(\"some value\")\n",
        "new_obj.instance_method()\n",
        "\n",
        "print(\"-\" * 20)\n",
        "\n",
        "# Calling static method using the class\n",
        "MyClass.static_method(5, 3)\n",
        "\n",
        "# Calling static method using an instance (also works)\n",
        "obj.static_method(10, 2)"
      ],
      "cell_type": "code",
      "metadata": {
        "id": "-7axlHBTOw1T"
      },
      "execution_count": null,
      "outputs": []
    },
    {
      "cell_type": "markdown",
      "source": [
        "Q23-How does polymorphism work in Python with inheritance?\n",
        "\n",
        "  Ans-Polymorphism and inheritance work together in Python to allow objects of different classes to be treated in a unified way, particularly when those classes are related through inheritance. This is primarily achieved through method overriding (runtime polymorphism).\n",
        "\n",
        "Here's how it works:\n",
        "\n",
        "Inheritance: You have a base class (superclass) that defines a method.\n",
        "Method Overriding: One or more derived classes (subclasses) inherit from the base class and provide their own specific implementation for that same method. The method in the subclass has the same name and signature as the method in the base class.\n",
        "Polymorphic Behavior: When you call this method on an object, the specific version of the method that gets executed depends on the actual type of the object at runtime, not the type of the variable holding the object.\n",
        "\n",
        "Explanation:\n",
        "\n",
        "We have a base class Animal with a speak method.\n",
        "We have Dog and Cat classes that inherit from Animal and override the speak method with their own implementations.\n",
        "We create a list animals that contains instances of Dog, Cat, and Animal.\n",
        "When we loop through the animals list, even though the variable animal is treated as an Animal type within the loop, Python's runtime polymorphism ensures that the correct speak method for the actual object type (Dog, Cat, or Animal) is called."
      ],
      "metadata": {
        "id": "MJP-XnomE2ur"
      }
    },
    {
      "source": [
        "class Animal:\n",
        "    def speak(self):\n",
        "        \"\"\"Generic speak method.\"\"\"\n",
        "        print(\"Animal makes a sound\")\n",
        "\n",
        "class Dog(Animal):\n",
        "    def speak(self):\n",
        "        \"\"\"Dog's specific speak method.\"\"\"\n",
        "        print(\"Bark!\")\n",
        "\n",
        "class Cat(Animal):\n",
        "    def speak(self):\n",
        "        \"\"\"Cat's specific speak method.\"\"\"\n",
        "        print(\"Meow!\")\n",
        "\n",
        "# Create a list of Animal objects (but containing Dog and Cat instances)\n",
        "animals = [Dog(), Cat(), Animal()]\n",
        "\n",
        "# Iterate through the list and call the speak method\n",
        "for animal in animals:\n",
        "    animal.speak()"
      ],
      "cell_type": "code",
      "metadata": {
        "id": "J4BAjfw6PTI1"
      },
      "execution_count": null,
      "outputs": []
    },
    {
      "cell_type": "markdown",
      "source": [
        "Q24-What is method chaining in Python OOP?\n",
        "\n",
        "  Ans-Method chaining in Python OOP is a programming technique where you call multiple methods on an object in a single expression. Each method call in the chain returns the object itself, allowing the next method in the chain to be called on the result. This creates a fluent and readable syntax, often used in libraries like pandas or for building builder patterns.\n",
        "\n",
        "To achieve method chaining, each method that is part of the chain must return self (the instance of the object)."
      ],
      "metadata": {
        "id": "H13inpHUE55P"
      }
    },
    {
      "source": [
        "class Calculator:\n",
        "    def __init__(self, value=0):\n",
        "        self.value = value\n",
        "\n",
        "    def add(self, number):\n",
        "        self.value += number\n",
        "        return self  # Return self to allow chaining\n",
        "\n",
        "    def subtract(self, number):\n",
        "        self.value -= number\n",
        "        return self  # Return self to allow chaining\n",
        "\n",
        "    def multiply(self, number):\n",
        "        self.value *= number\n",
        "        return self  # Return self to allow chaining\n",
        "\n",
        "    def get_result(self):\n",
        "        return self.value\n",
        "\n",
        "# Using method chaining\n",
        "result = Calculator(10).add(5).subtract(2).multiply(3).get_result()\n",
        "print(result)  # Output: 39  ((10 + 5 - 2) * 3)"
      ],
      "cell_type": "code",
      "metadata": {
        "id": "gKHUYccHPh5z"
      },
      "execution_count": null,
      "outputs": []
    },
    {
      "cell_type": "markdown",
      "source": [
        "Q25-What is the purpose of the __call__ method in Python?\n",
        "\n",
        "  Ans-The __call__ method in Python is a special dunder method that allows an instance of a class to be called like a function. If a class defines a __call__ method, creating an object of that class and then calling the object with parentheses (like object_name()) will execute the code inside the __call__ method.\n",
        "\n",
        "Essentially, it makes instances of your class \"callable objects.\"\n",
        "\n",
        "Here's the purpose and how it works:\n",
        "\n",
        "Making Objects Callable: The primary purpose is to make instances of a class behave like functions. This can be useful in various scenarios where you want an object to encapsulate both data and behavior that can be invoked with a simple function-call syntax.\n",
        "Stateful Functions: __call__ allows you to create \"stateful functions.\" The object can maintain its own internal state (attributes), and the __call__ method can operate on or modify that state each time it's invoked. This is different from regular functions, which typically don't maintain state between calls.\n",
        "Using Objects in Contexts Expecting Functions: You can use objects that implement __call__ in contexts where a function is expected, such as decorators, callback functions, or within frameworks that require callable objects."
      ],
      "metadata": {
        "id": "9FZqDkkCE-Hk"
      }
    },
    {
      "source": [
        "class Multiplier:\n",
        "    def __init__(self, factor):\n",
        "        self.factor = factor\n",
        "\n",
        "    def __call__(self, number):\n",
        "        \"\"\"This method is called when the object is invoked like a function.\"\"\"\n",
        "        print(f\"Multiplying {number} by {self.factor}\")\n",
        "        return number * self.factor\n",
        "\n",
        "# Create an instance of the Multiplier class\n",
        "double = Multiplier(2)\n",
        "triple = Multiplier(3)\n",
        "\n",
        "# Call the objects like functions\n",
        "print(double(5))  # Output: Multiplying 5 by 2, then 10\n",
        "print(triple(10)) # Output: Multiplying 10 by 3, then 30\n",
        "\n",
        "# The object maintains its state (the factor)\n",
        "print(double(7))  # Output: Multiplying 7 by 2, then 14"
      ],
      "cell_type": "code",
      "metadata": {
        "id": "DnR7HMMHPwqv"
      },
      "execution_count": null,
      "outputs": []
    },
    {
      "cell_type": "markdown",
      "source": [
        "# **PRACTICAL QUESTIONS**"
      ],
      "metadata": {
        "id": "jfFQHKcLFCHh"
      }
    },
    {
      "cell_type": "markdown",
      "source": [
        "Q1-Create a parent class Animal with a method speak() that prints a generic message. Create a child class Dog that overrides the speak() method to print \"Bark!\"?"
      ],
      "metadata": {
        "id": "hQX-Fr3HFINt"
      }
    },
    {
      "cell_type": "code",
      "metadata": {
        "id": "3fa7f14b"
      },
      "source": [
        "class Animal:\n",
        "    def speak(self):\n",
        "        print(\"Generic animal sound\")\n",
        "\n",
        "class Dog(Animal):\n",
        "    def speak(self):\n",
        "        print(\"Bark!\")\n",
        "\n",
        "# Create instances and demonstrate the speak method\n",
        "generic_animal = Animal()\n",
        "dog = Dog()\n",
        "\n",
        "generic_animal.speak()\n",
        "dog.speak()"
      ],
      "execution_count": null,
      "outputs": []
    },
    {
      "cell_type": "markdown",
      "source": [
        "Q2-Write a program to create an abstract class Shape with a method area(). Derive classes Circle and Rectangle from it and implement the area() method in both."
      ],
      "metadata": {
        "id": "2RSCT6XnFRU8"
      }
    },
    {
      "cell_type": "code",
      "metadata": {
        "id": "ef4cb993"
      },
      "source": [
        "from abc import ABC, abstractmethod\n",
        "import math\n",
        "\n",
        "class Shape(ABC):\n",
        "    @abstractmethod\n",
        "    def area(self):\n",
        "        pass\n",
        "\n",
        "class Circle(Shape):\n",
        "    def __init__(self, radius):\n",
        "        self.radius = radius\n",
        "\n",
        "    def area(self):\n",
        "        return math.pi * self.radius**2\n",
        "\n",
        "class Rectangle(Shape):\n",
        "    def __init__(self, width, height):\n",
        "        self.width = width\n",
        "        self.height = height\n",
        "\n",
        "    def area(self):\n",
        "        return self.width * self.height\n",
        "\n",
        "# Example usage:\n",
        "# shape = Shape() # This would raise a TypeError because Shape is abstract\n",
        "\n",
        "circle = Circle(5)\n",
        "print(f\"Area of Circle: {circle.area()}\")\n",
        "\n",
        "rectangle = Rectangle(4, 6)\n",
        "print(f\"Area of Rectangle: {rectangle.area()}\")"
      ],
      "execution_count": null,
      "outputs": []
    },
    {
      "cell_type": "markdown",
      "source": [
        "Q3- Implement a multi-level inheritance scenario where a class Vehicle has an attribute type. Derive a class Car and further derive a class ElectricCar that adds a battery attribute."
      ],
      "metadata": {
        "id": "ALg79P3gFVsk"
      }
    },
    {
      "cell_type": "code",
      "metadata": {
        "id": "93f1e680"
      },
      "source": [
        "class Vehicle:\n",
        "    def __init__(self, vehicle_type):\n",
        "        self.vehicle_type = vehicle_type\n",
        "        print(f\"Vehicle created with type: {self.vehicle_type}\")\n",
        "\n",
        "class Car(Vehicle):\n",
        "    def __init__(self, vehicle_type, model):\n",
        "        super().__init__(vehicle_type)\n",
        "        self.model = model\n",
        "        print(f\"Car created with model: {self.model}\")\n",
        "\n",
        "class ElectricCar(Car):\n",
        "    def __init__(self, vehicle_type, model, battery_capacity):\n",
        "        super().__init__(vehicle_type, model)\n",
        "        self.battery_capacity = battery_capacity\n",
        "        print(f\"ElectricCar created with battery capacity: {self.battery_capacity} kWh\")\n",
        "\n",
        "# Create an instance of ElectricCar\n",
        "my_electric_car = ElectricCar(\"Sedan\", \"Model 3\", 75)\n",
        "\n",
        "print(f\"\\nMy car details:\")\n",
        "print(f\"Type: {my_electric_car.vehicle_type}\")\n",
        "print(f\"Model: {my_electric_car.model}\")\n",
        "print(f\"Battery Capacity: {my_electric_car.battery_capacity} kWh\")"
      ],
      "execution_count": null,
      "outputs": []
    },
    {
      "cell_type": "markdown",
      "source": [
        "Q4-Demonstrate polymorphism by creating a base class Bird with a method fly(). Create two derived classes Sparrow and Penguin that override the fly() method."
      ],
      "metadata": {
        "id": "MEDW3w_3FXh_"
      }
    },
    {
      "cell_type": "code",
      "metadata": {
        "id": "04a80e70"
      },
      "source": [
        "class Bird:\n",
        "    def fly(self):\n",
        "        print(\"Bird is flying\")\n",
        "\n",
        "class Sparrow(Bird):\n",
        "    def fly(self):\n",
        "        print(\"Sparrow is flying high\")\n",
        "\n",
        "class Penguin(Bird):\n",
        "    def fly(self):\n",
        "        print(\"Penguin cannot fly (it swims instead)\")\n",
        "\n",
        "# Demonstrate polymorphism\n",
        "birds = [Bird(), Sparrow(), Penguin()]\n",
        "\n",
        "for bird in birds:\n",
        "    bird.fly()"
      ],
      "execution_count": null,
      "outputs": []
    },
    {
      "cell_type": "markdown",
      "source": [
        "Q5-Write a program to demonstrate encapsulation by creating a class BankAccount with private attributes balance and methods to deposit, withdraw, and check balance."
      ],
      "metadata": {
        "id": "X5SfNgTZFgCQ"
      }
    },
    {
      "cell_type": "code",
      "metadata": {
        "id": "e0b24f21"
      },
      "source": [
        "class BankAccount:\n",
        "    def __init__(self, initial_balance=0):\n",
        "        # Private attribute using name mangling\n",
        "        self.__balance = initial_balance\n",
        "        print(f\"Account created with initial balance: ${self.__balance}\")\n",
        "\n",
        "    def deposit(self, amount):\n",
        "        if amount > 0:\n",
        "            self.__balance += amount\n",
        "            print(f\"Deposited ${amount}. New balance: ${self.__balance}\")\n",
        "        else:\n",
        "            print(\"Deposit amount must be positive.\")\n",
        "\n",
        "    def withdraw(self, amount):\n",
        "        if amount > 0:\n",
        "            if self.__balance >= amount:\n",
        "                self.__balance -= amount\n",
        "                print(f\"Withdrew ${amount}. New balance: ${self.__balance}\")\n",
        "            else:\n",
        "                print(\"Insufficient funds.\")\n",
        "        else:\n",
        "            print(\"Withdrawal amount must be positive.\")\n",
        "\n",
        "    def check_balance(self):\n",
        "        print(f\"Current balance: ${self.__balance}\")\n",
        "\n",
        "# Example usage:\n",
        "account = BankAccount(1000)\n",
        "account.deposit(500)\n",
        "account.withdraw(200)\n",
        "account.check_balance()\n",
        "account.withdraw(1500) # Attempt to withdraw more than balance\n",
        "account.check_balance()\n",
        "\n",
        "# Attempting to access the private attribute directly (will result in an AttributeError or name mangling)\n",
        "# print(account.__balance) # This will likely raise an AttributeError\n",
        "# print(account._BankAccount__balance) # Accessing via name mangling (demonstration, generally avoid)"
      ],
      "execution_count": null,
      "outputs": []
    },
    {
      "cell_type": "markdown",
      "source": [
        "Q6-Demonstrate runtime polymorphism using a method play() in a base class Instrument. Derive classes Guitar and Piano that implement their own version of play()."
      ],
      "metadata": {
        "id": "kWsrDIncFya4"
      }
    },
    {
      "cell_type": "code",
      "metadata": {
        "id": "03a853ac"
      },
      "source": [
        "class Instrument:\n",
        "    def play(self):\n",
        "        \"\"\"Generic play method.\"\"\"\n",
        "        print(\"Playing an instrument\")\n",
        "\n",
        "class Guitar(Instrument):\n",
        "    def play(self):\n",
        "        \"\"\"Guitar's specific play method.\"\"\"\n",
        "        print(\"Strumming the guitar\")\n",
        "\n",
        "class Piano(Instrument):\n",
        "    def play(self):\n",
        "        \"\"\"Piano's specific play method.\"\"\"\n",
        "        print(\"Playing the piano keys\")\n",
        "\n",
        "# Demonstrate runtime polymorphism\n",
        "instruments = [Instrument(), Guitar(), Piano()]\n",
        "\n",
        "for instrument in instruments:\n",
        "    instrument.play()"
      ],
      "execution_count": null,
      "outputs": []
    },
    {
      "cell_type": "markdown",
      "source": [
        "Q7-Create a class MathOperations with a class method add_numbers() to add two numbers and a static method subtract_numbers() to subtract two numbers."
      ],
      "metadata": {
        "id": "hWUg5xSlF3X-"
      }
    },
    {
      "cell_type": "code",
      "metadata": {
        "id": "8d19c42a"
      },
      "source": [
        "class MathOperations:\n",
        "    @classmethod\n",
        "    def add_numbers(cls, num1, num2):\n",
        "        \"\"\"Class method to add two numbers.\"\"\"\n",
        "        print(f\"Using class method to add {num1} and {num2}\")\n",
        "        return num1 + num2\n",
        "\n",
        "    @staticmethod\n",
        "    def subtract_numbers(num1, num2):\n",
        "        \"\"\"Static method to subtract two numbers.\"\"\"\n",
        "        print(f\"Using static method to subtract {num2} from {num1}\")\n",
        "        return num1 - num2\n",
        "\n",
        "# Using the class method\n",
        "sum_result = MathOperations.add_numbers(10, 5)\n",
        "print(f\"Sum: {sum_result}\")\n",
        "\n",
        "# Using the static method\n",
        "difference_result = MathOperations.subtract_numbers(20, 7)\n",
        "print(f\"Difference: {difference_result}\")\n",
        "\n",
        "# You can also call static methods from an instance, but it's less common\n",
        "# math_obj = MathOperations()\n",
        "# print(math_obj.subtract_numbers(50, 15))"
      ],
      "execution_count": null,
      "outputs": []
    },
    {
      "cell_type": "markdown",
      "source": [
        "Q8- Implement a class Person with a class method to count the total number of persons created."
      ],
      "metadata": {
        "id": "PTOfymoPF8GC"
      }
    },
    {
      "cell_type": "code",
      "metadata": {
        "id": "1b295287"
      },
      "source": [
        "class Person:\n",
        "    # Class variable to keep track of the number of instances\n",
        "    person_count = 0\n",
        "\n",
        "    def __init__(self, name):\n",
        "        self.name = name\n",
        "        Person.person_count += 1  # Increment the count when a new instance is created\n",
        "        print(f\"Person '{self.name}' created.\")\n",
        "\n",
        "    @classmethod\n",
        "    def get_person_count(cls):\n",
        "        \"\"\"Class method to get the total number of persons created.\"\"\"\n",
        "        return cls.person_count\n",
        "\n",
        "# Create instances of the Person class\n",
        "person1 = Person(\"Alice\")\n",
        "person2 = Person(\"Bob\")\n",
        "person3 = Person(\"Charlie\")\n",
        "\n",
        "# Use the class method to get the count\n",
        "total_persons = Person.get_person_count()\n",
        "print(f\"\\nTotal number of persons created: {total_persons}\")"
      ],
      "execution_count": null,
      "outputs": []
    },
    {
      "cell_type": "markdown",
      "source": [
        "Q9-Write a class Fraction with attributes numerator and denominator. Override the str method to display the fraction as \"numerator/denominator\"."
      ],
      "metadata": {
        "id": "yRpXn5dEGAGA"
      }
    },
    {
      "cell_type": "code",
      "metadata": {
        "id": "ab019baa"
      },
      "source": [
        "class Fraction:\n",
        "    def __init__(self, numerator, denominator):\n",
        "        self.numerator = numerator\n",
        "        self.denominator = denominator\n",
        "\n",
        "    def __str__(self):\n",
        "        \"\"\"Overrides the string representation to display as 'numerator/denominator'.\"\"\"\n",
        "        return f\"{self.numerator}/{self.denominator}\"\n",
        "\n",
        "    def __repr__(self):\n",
        "        \"\"\"Provides a developer-friendly representation (optional but good practice).\"\"\"\n",
        "        return f\"Fraction({self.numerator}, {self.denominator})\"\n",
        "\n",
        "# Example usage:\n",
        "fraction1 = Fraction(3, 4)\n",
        "fraction2 = Fraction(1, 2)\n",
        "\n",
        "print(fraction1)  # Calls __str__\n",
        "print(fraction2)\n",
        "\n",
        "# Using str() and repr() explicitly\n",
        "print(str(fraction1))\n",
        "print(repr(fraction1))"
      ],
      "execution_count": null,
      "outputs": []
    },
    {
      "cell_type": "markdown",
      "source": [
        "Q10-Demonstrate operator overloading by creating a class Vector and overriding the add method to add two vectors."
      ],
      "metadata": {
        "id": "IO1GSsKkGHrx"
      }
    },
    {
      "cell_type": "code",
      "metadata": {
        "id": "ede1bb4b"
      },
      "source": [
        "class Vector:\n",
        "    def __init__(self, x, y):\n",
        "        self.x = x\n",
        "        self.y = y\n",
        "\n",
        "    def __str__(self):\n",
        "        \"\"\"Informal string representation.\"\"\"\n",
        "        return f\"Vector({self.x}, {self.y})\"\n",
        "\n",
        "    def __repr__(self):\n",
        "        \"\"\"Official string representation.\"\"\"\n",
        "        return f\"Vector({self.x}, {self.y})\"\n",
        "\n",
        "    def __add__(self, other):\n",
        "        \"\"\"Overrides the + operator for vector addition.\"\"\"\n",
        "        if isinstance(other, Vector):\n",
        "            return Vector(self.x + other.x, self.y + other.y)\n",
        "        else:\n",
        "            raise TypeError(\"Can only add a Vector object to another Vector object\")\n",
        "\n",
        "# Example usage:\n",
        "vector1 = Vector(2, 3)\n",
        "vector2 = Vector(5, 1)\n",
        "\n",
        "# Using the overloaded + operator\n",
        "vector_sum = vector1 + vector2\n",
        "print(f\"Vector 1: {vector1}\")\n",
        "print(f\"Vector 2: {vector2}\")\n",
        "print(f\"Vector Sum: {vector_sum}\")\n",
        "\n",
        "# Attempting to add a non-Vector object (will raise a TypeError)\n",
        "# result = vector1 + 10"
      ],
      "execution_count": null,
      "outputs": []
    },
    {
      "cell_type": "markdown",
      "source": [
        "Q11-Create a class Person with attributes name and age. Add a method greet() that prints \"Hello, my name is {name} and I am {age} years old.\""
      ],
      "metadata": {
        "id": "_j7aNOS3GLtS"
      }
    },
    {
      "cell_type": "code",
      "metadata": {
        "id": "2d2b1879"
      },
      "source": [
        "class Person:\n",
        "    def __init__(self, name, age):\n",
        "        self.name = name\n",
        "        self.age = age\n",
        "\n",
        "    def greet(self):\n",
        "        print(f\"Hello, my name is {self.name} and I am {self.age} years old.\")\n",
        "\n",
        "# Example usage:\n",
        "person1 = Person(\"Alice\", 30)\n",
        "person1.greet()"
      ],
      "execution_count": null,
      "outputs": []
    },
    {
      "cell_type": "markdown",
      "source": [
        "Q12- Implement a class Student with attributes name and grades. Create a method average_grade() to compute the average of the grades."
      ],
      "metadata": {
        "id": "16wvBJ5qGPLm"
      }
    },
    {
      "cell_type": "code",
      "metadata": {
        "id": "c9f0b855"
      },
      "source": [
        "class Student:\n",
        "    def __init__(self, name, grades):\n",
        "        self.name = name\n",
        "        self.grades = grades # grades should be a list of numbers\n",
        "\n",
        "    def average_grade(self):\n",
        "        if not self.grades:\n",
        "            return 0  # Return 0 if there are no grades\n",
        "        return sum(self.grades) / len(self.grades)\n",
        "\n",
        "# Example usage:\n",
        "student1 = Student(\"Bob\", [85, 90, 78, 92])\n",
        "print(f\"Student: {student1.name}\")\n",
        "print(f\"Grades: {student1.grades}\")\n",
        "print(f\"Average Grade: {student1.average_grade():.2f}\")\n",
        "\n",
        "student2 = Student(\"Alice\", [95, 88, 91])\n",
        "print(f\"\\nStudent: {student2.name}\")\n",
        "print(f\"Grades: {student2.grades}\")\n",
        "print(f\"Average Grade: {student2.average_grade():.2f}\")\n",
        "\n",
        "student3 = Student(\"Charlie\", [])\n",
        "print(f\"\\nStudent: {student3.name}\")\n",
        "print(f\"Grades: {student3.grades}\")\n",
        "print(f\"Average Grade: {student3.average_grade():.2f}\")"
      ],
      "execution_count": null,
      "outputs": []
    },
    {
      "cell_type": "markdown",
      "source": [
        "Q13- Create a class Rectangle with methods set_dimensions() to set the dimensions and area() to calculate the area"
      ],
      "metadata": {
        "id": "FxQU21lyGSo9"
      }
    },
    {
      "cell_type": "code",
      "metadata": {
        "id": "28f80ebf"
      },
      "source": [
        "class Rectangle:\n",
        "    def __init__(self, width=0, height=0):\n",
        "        self.width = width\n",
        "        self.height = height\n",
        "\n",
        "    def set_dimensions(self, width, height):\n",
        "        \"\"\"Sets the width and height of the rectangle.\"\"\"\n",
        "        if width >= 0 and height >= 0:\n",
        "            self.width = width\n",
        "            self.height = height\n",
        "            print(f\"Dimensions set to: Width = {self.width}, Height = {self.height}\")\n",
        "        else:\n",
        "            print(\"Dimensions must be non-negative.\")\n",
        "\n",
        "    def area(self):\n",
        "        \"\"\"Calculates and returns the area of the rectangle.\"\"\"\n",
        "        return self.width * self.height\n",
        "\n",
        "# Example usage:\n",
        "rectangle1 = Rectangle()\n",
        "rectangle1.set_dimensions(5, 10)\n",
        "print(f\"Area of rectangle1: {rectangle1.area()}\")\n",
        "\n",
        "rectangle2 = Rectangle(7, 3)\n",
        "print(f\"Area of rectangle2: {rectangle2.area()}\")\n",
        "\n",
        "rectangle3 = Rectangle()\n",
        "rectangle3.set_dimensions(-2, 5) # Demonstrate invalid input\n",
        "print(f\"Area of rectangle3: {rectangle3.area()}\")"
      ],
      "execution_count": null,
      "outputs": []
    },
    {
      "cell_type": "markdown",
      "source": [
        "Q14- Create a class Employee with a method calculate_salary() that computes the salary based on hours worked and hourly rate. Create a derived class Manager that adds a bonus to the salary."
      ],
      "metadata": {
        "id": "v_nXRkKTGUW1"
      }
    },
    {
      "cell_type": "code",
      "metadata": {
        "id": "8cf76a4a"
      },
      "source": [
        "class Employee:\n",
        "    def __init__(self, hours_worked, hourly_rate):\n",
        "        self.hours_worked = hours_worked\n",
        "        self.hourly_rate = hourly_rate\n",
        "\n",
        "    def calculate_salary(self):\n",
        "        \"\"\"Calculates the basic salary.\"\"\"\n",
        "        return self.hours_worked * self.hourly_rate\n",
        "\n",
        "class Manager(Employee):\n",
        "    def __init__(self, hours_worked, hourly_rate, bonus):\n",
        "        super().__init__(hours_worked, hourly_rate)\n",
        "        self.bonus = bonus\n",
        "\n",
        "    def calculate_salary(self):\n",
        "        \"\"\"Calculates the salary including bonus.\"\"\"\n",
        "        basic_salary = super().calculate_salary()\n",
        "        return basic_salary + self.bonus\n",
        "\n",
        "# Example usage:\n",
        "employee = Employee(40, 25)\n",
        "print(f\"Employee Salary: ${employee.calculate_salary():.2f}\")\n",
        "\n",
        "manager = Manager(40, 30, 500)\n",
        "print(f\"Manager Salary: ${manager.calculate_salary():.2f}\")"
      ],
      "execution_count": null,
      "outputs": []
    },
    {
      "cell_type": "markdown",
      "source": [
        "Q15-Create a class Product with attributes name, price, and quantity. Implement a method total_price() that calculates the total price of the product."
      ],
      "metadata": {
        "id": "29y6ZnhhGbEf"
      }
    },
    {
      "cell_type": "code",
      "metadata": {
        "id": "778522de"
      },
      "source": [
        "class Product:\n",
        "    def __init__(self, name, price, quantity):\n",
        "        self.name = name\n",
        "        self.price = price\n",
        "        self.quantity = quantity\n",
        "\n",
        "    def total_price(self):\n",
        "        \"\"\"Calculates the total price of the product.\"\"\"\n",
        "        return self.price * self.quantity\n",
        "\n",
        "# Example usage:\n",
        "product1 = Product(\"Laptop\", 1200, 1)\n",
        "print(f\"Product: {product1.name}\")\n",
        "print(f\"Price per item: ${product1.price:.2f}\")\n",
        "print(f\"Quantity: {product1.quantity}\")\n",
        "print(f\"Total Price: ${product1.total_price():.2f}\")\n",
        "\n",
        "product2 = Product(\"Mouse\", 25, 5)\n",
        "print(f\"\\nProduct: {product2.name}\")\n",
        "print(f\"Price per item: ${product2.price:.2f}\")\n",
        "print(f\"Quantity: {product2.quantity}\")\n",
        "print(f\"Total Price: ${product2.total_price():.2f}\")"
      ],
      "execution_count": null,
      "outputs": []
    },
    {
      "cell_type": "markdown",
      "source": [
        "Q16- Create a class Animal with an abstract method sound(). Create two derived classes Cow and Sheep that implement the sound() method."
      ],
      "metadata": {
        "id": "XQ5VrvvRGeGY"
      }
    },
    {
      "cell_type": "code",
      "metadata": {
        "id": "aa4650d0"
      },
      "source": [
        "from abc import ABC, abstractmethod\n",
        "\n",
        "class Animal(ABC):\n",
        "    @abstractmethod\n",
        "    def sound(self):\n",
        "        \"\"\"Abstract method for animal sound.\"\"\"\n",
        "        pass\n",
        "\n",
        "class Cow(Animal):\n",
        "    def sound(self):\n",
        "        \"\"\"Implementation of sound for Cow.\"\"\"\n",
        "        print(\"Moo!\")\n",
        "\n",
        "class Sheep(Animal):\n",
        "    def sound(self):\n",
        "        \"\"\"Implementation of sound for Sheep.\"\"\"\n",
        "        print(\"Baa!\")\n",
        "\n",
        "# Example usage:\n",
        "# animal = Animal() # This would raise a TypeError\n",
        "\n",
        "cow = Cow()\n",
        "cow.sound()\n",
        "\n",
        "sheep = Sheep()\n",
        "sheep.sound()"
      ],
      "execution_count": null,
      "outputs": []
    },
    {
      "cell_type": "markdown",
      "source": [
        "Q17- Create a class Book with attributes title, author, and year_published. Add a method get_book_info() that returns a formatted string with the book's details."
      ],
      "metadata": {
        "id": "ybtS4KvXGgEe"
      }
    },
    {
      "cell_type": "code",
      "metadata": {
        "id": "64ab9dfb"
      },
      "source": [
        "class Book:\n",
        "    def __init__(self, title, author, year_published):\n",
        "        self.title = title\n",
        "        self.author = author\n",
        "        self.year_published = year_published\n",
        "\n",
        "    def get_book_info(self):\n",
        "        \"\"\"Returns a formatted string with the book's details.\"\"\"\n",
        "        return f\"Title: {self.title}, Author: {self.author}, Year Published: {self.year_published}\"\n",
        "\n",
        "# Example usage:\n",
        "book1 = Book(\"The Hitchhiker's Guide to the Galaxy\", \"Douglas Adams\", 1979)\n",
        "print(book1.get_book_info())\n",
        "\n",
        "book2 = Book(\"Pride and Prejudice\", \"Jane Austen\", 1813)\n",
        "print(book2.get_book_info())"
      ],
      "execution_count": null,
      "outputs": []
    },
    {
      "cell_type": "markdown",
      "source": [
        "Q18-Create a class House with attributes address and price. Create a derived class Mansion that adds an attribute number_of_rooms."
      ],
      "metadata": {
        "id": "WVX8uozVGkUb"
      }
    },
    {
      "cell_type": "code",
      "metadata": {
        "id": "c9973d5e"
      },
      "source": [
        "class House:\n",
        "    def __init__(self, address, price):\n",
        "        self.address = address\n",
        "        self.price = price\n",
        "        print(f\"House created at {self.address} with price ${self.price:.2f}\")\n",
        "\n",
        "class Mansion(House):\n",
        "    def __init__(self, address, price, number_of_rooms):\n",
        "        super().__init__(address, price)\n",
        "        self.number_of_rooms = number_of_rooms\n",
        "        print(f\"Mansion created with {self.number_of_rooms} rooms\")\n",
        "\n",
        "# Example usage:\n",
        "my_house = House(\"123 Main St\", 300000)\n",
        "my_mansion = Mansion(\"456 Elm Ave\", 1500000, 20)\n",
        "\n",
        "print(f\"\\nMy house details:\")\n",
        "print(f\"Address: {my_house.address}\")\n",
        "print(f\"Price: ${my_house.price:.2f}\")\n",
        "\n",
        "print(f\"\\nMy mansion details:\")\n",
        "print(f\"Address: {my_mansion.address}\")\n",
        "print(f\"Price: ${my_mansion.price:.2f}\")\n",
        "print(f\"Number of rooms: {my_mansion.number_of_rooms}\")"
      ],
      "execution_count": null,
      "outputs": []
    }
  ]
}